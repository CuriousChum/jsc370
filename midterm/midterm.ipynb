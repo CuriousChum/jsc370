{
 "cells": [
  {
   "cell_type": "markdown",
   "id": "c21e5da1-961a-4f32-aa58-09fffa2536ae",
   "metadata": {},
   "source": [
    "# Analysis on the Relationship CPU Utilization and Temperature on Raspberry Pi Devices\n",
    "\n",
    "## Introduction\n",
    "\n",
    "This analysis explores the relationship between CPU utilization and temperature across different Raspberry Pi specifications. The goal is to understand how CPU workload affects device temperature and whether this relationship can be used to predict thermal behavior \n",
    "/*looks sus*/ under various application states. This information is valuable for optimizing edge computing applications and preventing thermal throttling.\n",
    "\n",
    "#### Research Question\n",
    "\n",
    "How does resource utilization affect temperature across different Raspberry Pi configurations and application states, and can we identify patterns in this relationship that predict thermal behavior?\n",
    "\n",
    "## Methods\n",
    "\n",
    "### Dataset Description\n",
    "\n",
    "The dataset used in this analysis was constructed and collected by researched is the Queen's Telecommunation Research Lab (TRL), led by Ruslan Kain. It contains resource usage information from four heterogeneous Raspberry Pi 4 devices, with different RAM sizes (2GB, 4GB, 8GB) and CPU frequencies (1200MHz, 1500MHz, 1800MHz), measured under different application usages including gaming, streaming, augmented reality, mining, and idling. The data is collected in ~5 second intervals using the `PsUtil` Python package.\n",
    "\n",
    "Since the dataset is separated into multiple smaller datasets for each device and application usage patterns (consistent pattern vs. random), this exploratory analysis will use only one for each device and use the data with consistent usage pattern. \n",
    "\n",
    "### Data Wrangling\n",
    "The dataset will be subsetted on the following columns \n",
    "\n",
    "- `cpu`\n",
    "- `state`\n",
    "- `memory`\n",
    "- `cpu_freq`\n",
    "- `net_upload_rate`\n",
    "- `net_download_rate`\n",
    "- `temp`\n",
    "\n",
    "This choice is made based on domain-specific knowledge, specifically, CPU, memory, and network activity is known to generate heat, so they are included to account for confounding effects. The state is also kept to observe resource activity difference between states.\n"
   ]
  },
  {
   "cell_type": "code",
   "execution_count": null,
   "id": "d000bb5d-c22f-4b20-8c65-16cb7a46891c",
   "metadata": {},
   "outputs": [],
   "source": [
    "import requests\n",
    "import zipfile\n",
    "\n",
    "url = \"https://borealisdata.ca/api/access/dataset/:persistentId\"\n",
    "rpi_id = \"doi:10.5683/SP3/GOZAJE\"\n",
    "params = {\n",
    "    \"persistentId\": rpi_id,\n",
    "}\n",
    "\n",
    "with requests.get(url, params=params, stream=True) as resp:\n",
    "    if resp.status_code != 200:\n",
    "        print(\"request fail\")\n",
    "    else:\n",
    "        with open(\"data.zip\", \"wb\") as f:\n",
    "            for chunk in resp.iter_content(16384):\n",
    "                f.write(chunk)\n",
    "\n",
    "assert zipfile.is_zipfile(\"data.zip\")\n",
    "\n",
    "zipfile.ZipFile(\"data.zip\").extractall(\"data\")"
   ]
  },
  {
   "cell_type": "code",
   "execution_count": null,
   "id": "91eeb9b8-b18d-4bde-825c-0915ab033b16",
   "metadata": {},
   "outputs": [],
   "source": [
    "import numpy as np\n",
    "import pandas as pd\n",
    "import matplotlib.pyplot as plt\n",
    "import seaborn as sns\n",
    "import gc\n",
    "\n",
    "import warnings\n",
    "warnings.filterwarnings('ignore')\n",
    "\n",
    "COLS = [ 'time_stamp', 'time', 'state', 'cpu', 'cpu_freq', 'memory', 'net_upload_rate', 'net_download_rate', 'temp' ]\n",
    "# read dataframes \n",
    "# df_1 : 2GB 1200MHz\n",
    "# df_2 : 2GB 1500MHz\n",
    "# df_3 : 4GB 1500MHz\n",
    "# df_4 : 8GB 1800MHz\n",
    "df_1 = pd.read_table('data/RPi4B2GB1_1200MHz_res_usage_data_rvp_pattern_48hr.tab',\n",
    "                    parse_dates=['time_stamp'],\n",
    "                    index_col='time_stamp',\n",
    "                    usecols=COLS,\n",
    "                )\n",
    "df_2 = pd.read_table('data/RPi4B2GB2_1500MHz_res_usage_data_rvp_pattern_48hr.tab',\n",
    "                    parse_dates=['time_stamp'],\n",
    "                    index_col='time_stamp',\n",
    "                    usecols=COLS,\n",
    "                )\n",
    "df_3 = pd.read_table('data/RPi4B4GB_1500MHz_res_usage_data_rvp_pattern_48hr.tab',\n",
    "                    parse_dates=['time_stamp'],\n",
    "                    index_col='time_stamp',\n",
    "                    usecols=COLS,\n",
    "                )\n",
    "df_4 = pd.read_table('data/RPi4B8GB_1800MHz_res_usage_data_rvp_pattern_48hr.tab',\n",
    "                    parse_dates=['time_stamp'],\n",
    "                    index_col='time_stamp',\n",
    "                    usecols=COLS,\n",
    "                    )"
   ]
  },
  {
   "cell_type": "code",
   "execution_count": null,
   "id": "b9d4b2a5-bf7f-47ff-a893-7d74a128d0fd",
   "metadata": {},
   "outputs": [],
   "source": [
    "# we will only use temp, memory, cpu, cpu_freq for now\n",
    "def clean(df):\n",
    "    df['cpu_ma'] = df.cpu.rolling(window=3, closed='both').mean()\n",
    "    df['temp_ma'] = df.temp.rolling(window=3, closed='both', win_type='exponential').mean(center=0, tau=5, sym=False)\n",
    "    df['mem_diff'] = df.memory.diff().fillna(0)\n",
    "    return df"
   ]
  },
  {
   "cell_type": "code",
   "execution_count": null,
   "id": "a5924b76-f59e-48ab-b668-e5e2b844ef02",
   "metadata": {},
   "outputs": [],
   "source": [
    "# prepare dataframes\n",
    "df_1 = clean(df_1)\n",
    "df_2 = clean(df_2)\n",
    "df_3 = clean(df_3)\n",
    "df_4 = clean(df_4)\n",
    "\n",
    "df = df_4_1500\n",
    "gc.collect()\n",
    "\n",
    "def foo():\n",
    "    pass\n",
    "foo()"
   ]
  },
  {
   "cell_type": "code",
   "execution_count": null,
   "id": "9a9c4ab5-5243-41ac-9978-858c2fa1860d",
   "metadata": {},
   "outputs": [],
   "source": [
    "def plot_facet(df, datacol):\n",
    "    fig, ax = plt.subplots(nrows=1, ncols=5, figsize=(12, 3))\n",
    "    for i, state in enumerate(states):\n",
    "        sns.histplot(df[df.state == state][datacol], bins=30, kde=True, ax=ax[i])\n",
    "        ax[i].set_title(f'state: {state}')\n",
    "    fig.suptitle(f\"{datacol} distribution\")\n",
    "    plt.tight_layout()\n",
    "    plt.show()\n",
    "\n",
    "# plot_facet(df, 'cpu')\n",
    "# plot_facet(df, 'memory')\n",
    "# plot_facet(df, 'net_upload_rate')\n",
    "# plot_facet(df, 'net_download_rate')"
   ]
  },
  {
   "cell_type": "code",
   "execution_count": null,
   "id": "779f2ec9-9108-44f7-a3a4-7a4fb61f544d",
   "metadata": {},
   "outputs": [],
   "source": [
    "df = df_1\n",
    "plotdf = df[(df.time < df.time.quantile(0.125))]\n",
    "\n",
    "def plot_time_series(plotdf, colname, ax=None, show=True, retpatches=False):\n",
    "    if ax is None:\n",
    "        fig, ax = plt.subplots(figsize=(16, 3))\n",
    "    data = plotdf[colname]\n",
    "    ax.plot(plotdf.time, data)\n",
    "\n",
    "    state_colors = {\n",
    "        'augmented_reality': 'tab:blue',\n",
    "        'game': 'tab:orange',\n",
    "        'idle': 'tab:green',\n",
    "        'mining': 'tab:red',\n",
    "        'stream': 'tab:cyan',\n",
    "    }\n",
    "    legend_patches = []\n",
    "    for state, color in state_colors.items():\n",
    "        ax.fill_between(plotdf.time, data.min(), data.max(), where=(plotdf.state == state), color=color, alpha=0.5)\n",
    "        legend_patches.append(plt.Rectangle((0,0), 1, 1, fc=color, alpha=0.3, label=state))\n",
    "        \n",
    "    ax.set_xbound(plotdf.time.iloc[0], plotdf.time.iloc[-1])\n",
    "    if not retpatches:\n",
    "        ax.legend(handles=legend_patches, loc='upper right', title=\"states\")\n",
    "    if show:\n",
    "        plt.show()\n",
    "    return legend_patches if retpatches else None"
   ]
  },
  {
   "cell_type": "code",
   "execution_count": null,
   "id": "eb7abc5e-13e9-4d0e-8f4f-8e8d938e6eda",
   "metadata": {},
   "outputs": [],
   "source": [
    "def plot_mult_time_series(df, colnames, ylabs=None, titles=None, suptitle=None):\n",
    "    fig, axs = plt.subplots(nrows=len(colnames), figsize=(12, 3 * len(colnames)))\n",
    "    if suptitle is not None:\n",
    "        fig.suptitle(suptitle)\n",
    "    for i, col in enumerate(colnames):\n",
    "        patches = plot_time_series(df, col, ax=axs[i], show=False, retpatches=True)\n",
    "        axs[i].set_xlabel('time (ticks)')\n",
    "        axs[i].set_ylabel(ylabs[i])\n",
    "    fig.legend(handles=patches, loc='upper right', title=\"states\")\n",
    "    plt.tight_layout()\n",
    "    plt.show()\n"
   ]
  },
  {
   "cell_type": "markdown",
   "id": "f7af1c02-77a3-4263-826c-ac0e39c6ab7a",
   "metadata": {},
   "source": [
    "Since each application runs on its own, it is independent of each other.So, the dataset will be separated into time windows per state since the device runs an application for a window of time and analyse each window as independent samples. \n",
    "\n",
    "### Feature Engineering\n",
    "Resource activity data can contain a lot of noise especially for the CPU, upload/download rate (network), and temperature perhaps due to inherent jitter or measurement variance. For those columns, we will calculate a moving average to smoothen them out. The window size and weighing method is chosen based on the type of resource. Specifically, CPU and upload/download rate is unweighted, while temperature is weighted with an exponential window.\n",
    "\n",
    "Memory usage on its own does affect the utilization of other resources since this can mean nothing is going on at the moment. So, the percentage change in RAM usage is added to account for memory usage by the device for each application.\n"
   ]
  },
  {
   "cell_type": "code",
   "execution_count": null,
   "id": "1769b6fc-4c0f-4118-9cf9-af92dc2e3e0e",
   "metadata": {},
   "outputs": [],
   "source": [
    "plot_mult_time_series(plotdf,\n",
    "                      ['cpu_ma', 'temp_ma'],\n",
    "                      ylabs=['CPU usage (%)', 'Temperature (celcius)'],\n",
    "                      suptitle='CPU Activity and Temperature Moving Average over Time'\n",
    "                     )"
   ]
  },
  {
   "cell_type": "markdown",
   "id": "07b2e26b-2002-47e5-92f8-486b6e32c050",
   "metadata": {},
   "source": [
    "## Preliminary Results\n",
    "\n",
    "We see that there is stark difference in CPU and memory usage for each state with each state utilizing around the same percentage of CPU utilization for each of their usage window. However, the utilization percentage for each state is similar across devices. We also observe CPU throttling in `cpu_freq`, where the CPU scales down its frequency to conserve power usage when running processes with lower utilization.\n",
    "\n",
    "Furthermore, the temperature seems to increase/decrease quickly when the CPU utilization changes rapidly due to change of device application state, and plateauing to a stable temperature that is consistent for each state. This might imply that the device temperature change has some relationship to CPU utilization."
   ]
  },
  {
   "cell_type": "code",
   "execution_count": null,
   "id": "d623eb2d-ee02-4856-9fc4-443414398ce1",
   "metadata": {},
   "outputs": [],
   "source": [
    "plot_mult_time_series(plotdf,\n",
    "                      ['cpu', 'memory', 'net_upload_rate', 'net_download_rate', 'temp'],\n",
    "                      ylabs=['CPU usage (%)', 'Memory usage (%)', 'Upload Rate (Mb/s)', 'Download Rate (Mb/s)', 'Temperature (celcius)'],\n",
    "                      suptitle='Resource Activity and Temperature over Time'\n",
    "                     )"
   ]
  },
  {
   "cell_type": "markdown",
   "id": "94fb9a6e-c843-4375-8ee9-53fa98641011",
   "metadata": {},
   "source": [
    "Finally, we see that the network activity is relevant when the device is streaming, specifically, the download rate increases. However, on any other states, the device shows little to no network activity, so the upload rate will be removed from future analyses. "
   ]
  },
  {
   "cell_type": "code",
   "execution_count": null,
   "id": "c2091c9f-008a-438e-bf79-a7b914e85c87",
   "metadata": {},
   "outputs": [],
   "source": [
    "fig, ax = plt.subplots(ncols=2, nrows=1, figsize=(12, 4))\n",
    "sns.histplot(df_1, x='cpu', hue='state', ax=ax[0], bins=50, hue_order=states, kde=True)\n",
    "sns.histplot(df_1, x='memory', hue='state', ax=ax[1], bins=50, hue_order=states, kde=True)\n",
    "fig.suptitle('Resource Activity in Raspberry Pi 4 (2GB 1200Hz)')\n",
    "plt.show()\n",
    "fig, ax = plt.subplots(ncols=2, nrows=1, figsize=(12, 4))\n",
    "sns.histplot(df_2, x='cpu', hue='state', ax=ax[0], bins=50, hue_order=states, kde=True)\n",
    "sns.histplot(df_2, x='memory', hue='state', ax=ax[1], bins=50, hue_order=states, kde=True)\n",
    "fig.suptitle('Resource Activity in Raspberry Pi 4 (2GB 1500Hz)')\n",
    "plt.show()\n",
    "fig, ax = plt.subplots(ncols=2, nrows=1, figsize=(12, 4))\n",
    "sns.histplot(df_3, x='cpu', hue='state', ax=ax[0], bins=50, hue_order=states, kde=True)\n",
    "sns.histplot(df_3, x='memory', hue='state', ax=ax[1], bins=50, hue_order=states, kde=True)\n",
    "fig.suptitle('Resource Activity in Raspberry Pi 4 (4GB 1500Hz)')\n",
    "plt.show()\n",
    "fig, ax = plt.subplots(ncols=2, nrows=1, figsize=(12, 4))\n",
    "sns.histplot(df_4, x='cpu', hue='state', ax=ax[0], bins=50, hue_order=states, kde=True)\n",
    "sns.histplot(df_4, x='memory', hue='state', ax=ax[1], bins=50, hue_order=states, kde=True)\n",
    "fig.suptitle('Resource Activity in Raspberry Pi 4 (8GB 1800Hz)')\n",
    "plt.show()"
   ]
  },
  {
   "cell_type": "markdown",
   "id": "54967959-c0e3-4ddc-b662-1418e681451c",
   "metadata": {},
   "source": [
    "From the histograms above, we notice that the resource usage distribution (CPU and RAM) for each application is at large unimodal with slight variations. Below is a table summarizing some statistics on these distributions."
   ]
  },
  {
   "cell_type": "code",
   "execution_count": null,
   "id": "f38f7fae-a331-4fed-be02-44e33363a911",
   "metadata": {},
   "outputs": [],
   "source": [
    "def get_windows(df):\n",
    "    cur = df.state.iloc[0]\n",
    "    prev = 0\n",
    "    windows = {\n",
    "        state : [] for state in states\n",
    "    }\n",
    "    for i, state in enumerate(df.state):\n",
    "        if cur == state:\n",
    "            continue\n",
    "        windows[cur].append((prev, i-1))\n",
    "        cur = state\n",
    "        prev = i\n",
    "    return windows"
   ]
  },
  {
   "cell_type": "code",
   "execution_count": null,
   "id": "63f71bbc-460f-4381-a287-b9002ce460b3",
   "metadata": {},
   "outputs": [],
   "source": [
    "w1 = get_windows(df_1)\n",
    "w2 = get_windows(df_2)\n",
    "w3 = get_windows(df_3)\n",
    "w4 = get_windows(df_4)"
   ]
  },
  {
   "cell_type": "code",
   "execution_count": null,
   "id": "62be8b0b-d170-477b-924e-310674192ab2",
   "metadata": {},
   "outputs": [],
   "source": [
    "df_1.describe()"
   ]
  },
  {
   "cell_type": "code",
   "execution_count": null,
   "id": "023622e7-4142-4b15-8c09-8bce79f03ef7",
   "metadata": {},
   "outputs": [],
   "source": [
    "df_2.describe()"
   ]
  },
  {
   "cell_type": "code",
   "execution_count": null,
   "id": "6c91b414-8a50-4161-a106-f94e46d9dfbd",
   "metadata": {},
   "outputs": [],
   "source": [
    "df_3.describe()"
   ]
  },
  {
   "cell_type": "code",
   "execution_count": null,
   "id": "9ed6f615-df04-4cb4-9c06-b03bc94fbb0d",
   "metadata": {},
   "outputs": [],
   "source": [
    "df_4.describe()"
   ]
  },
  {
   "cell_type": "markdown",
   "id": "da5e2ea2-653a-4de7-84ae-6c096853a008",
   "metadata": {},
   "source": [
    "## Summary and Future Plans\n",
    "\n",
    "The data shows promising relationship between resources such as CPU utilization with temperature with consistent trends across devices and states. Future analysis will include uncovering this relationship and modelling the relationship. Furthermore, other variables such as RAM usage and changes in RAM might be incorporated to account for confounding relationships, for example, RAM usage might increase significantly with high download rate which in turn makes the operation IO bound, so the CPU utilization might drop. This can be seen in the fluctuation in the streaming state."
   ]
  },
  {
   "cell_type": "code",
   "execution_count": null,
   "id": "b4f3d8dc-fe21-4b94-a220-5740ab429ada",
   "metadata": {},
   "outputs": [],
   "source": []
  },
  {
   "cell_type": "code",
   "execution_count": null,
   "id": "5a42208d-06d7-4371-86e0-0dae7873886c",
   "metadata": {},
   "outputs": [],
   "source": []
  }
 ],
 "metadata": {
  "kernelspec": {
   "display_name": "Python 3 (ipykernel)",
   "language": "python",
   "name": "python3"
  },
  "language_info": {
   "codemirror_mode": {
    "name": "ipython",
    "version": 3
   },
   "file_extension": ".py",
   "mimetype": "text/x-python",
   "name": "python",
   "nbconvert_exporter": "python",
   "pygments_lexer": "ipython3",
   "version": "3.11.11"
  }
 },
 "nbformat": 4,
 "nbformat_minor": 5
}
